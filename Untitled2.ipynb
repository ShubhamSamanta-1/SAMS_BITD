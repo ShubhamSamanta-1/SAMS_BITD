{
 "cells": [
  {
   "cell_type": "code",
   "execution_count": 5,
   "id": "5f8d8a73",
   "metadata": {},
   "outputs": [
    {
     "name": "stderr",
     "output_type": "stream",
     "text": [
      "\n",
      "\n",
      "====== WebDriver manager ======\n",
      "Current google-chrome version is 99.0.4844\n",
      "Get LATEST driver version for 99.0.4844\n",
      "Driver [C:\\Users\\vaibh\\.wdm\\drivers\\chromedriver\\win32\\99.0.4844.51\\chromedriver.exe] found in cache\n"
     ]
    },
    {
     "name": "stdout",
     "output_type": "stream",
     "text": [
      "send_file() finished running \n"
     ]
    }
   ],
   "source": [
    "import sendy\n",
    "sendy.csv_send()\n"
   ]
  },
  {
   "cell_type": "code",
   "execution_count": 4,
   "id": "d95e4bd7",
   "metadata": {},
   "outputs": [
    {
     "ename": "SyntaxError",
     "evalue": "(unicode error) 'unicodeescape' codec can't decode bytes in position 2-3: truncated \\UXXXXXXXX escape (<ipython-input-4-907551a5f02e>, line 1)",
     "output_type": "error",
     "traceback": [
      "\u001b[1;36m  File \u001b[1;32m\"<ipython-input-4-907551a5f02e>\"\u001b[1;36m, line \u001b[1;32m1\u001b[0m\n\u001b[1;33m    pywhatkit.sendwhats_image(\"+919589001042\", \"C:\\Users\\vaibh\\Downloads\\Attendance-System--main\\Attendance-System--main\\Project attendance\\TrainingImage\\q.jpg\")\u001b[0m\n\u001b[1;37m                                              ^\u001b[0m\n\u001b[1;31mSyntaxError\u001b[0m\u001b[1;31m:\u001b[0m (unicode error) 'unicodeescape' codec can't decode bytes in position 2-3: truncated \\UXXXXXXXX escape\n"
     ]
    }
   ],
   "source": [
    "pywhatkit.sendwhats_image(\"+919589001042\", \"C:\\Users\\vaibh\\Downloads\\Attendance-System--main\\Attendance-System--main\\Project attendance\\TrainingImage\\q.jpg\")"
   ]
  },
  {
   "cell_type": "code",
   "execution_count": 1,
   "id": "1d18ebd3",
   "metadata": {},
   "outputs": [
    {
     "name": "stderr",
     "output_type": "stream",
     "text": [
      "\n",
      "\n",
      "====== WebDriver manager ======\n",
      "Current google-chrome version is 99.0.4844\n",
      "Get LATEST driver version for 99.0.4844\n",
      "Driver [C:\\Users\\vaibh\\.wdm\\drivers\\chromedriver\\win32\\99.0.4844.51\\chromedriver.exe] found in cache\n"
     ]
    },
    {
     "name": "stdout",
     "output_type": "stream",
     "text": [
      "Message sent successfuly to 919589001042\n",
      "send_message() finished running \n",
      "Alert Text: {Alert text : \n",
      "Message: unexpected alert open: {Alert text : }\n",
      "  (Session info: chrome=99.0.4844.84)\n",
      "\n",
      "Alert Text: {Alert text : \n",
      "Message: unexpected alert open: {Alert text : }\n",
      "  (Session info: chrome=99.0.4844.84)\n",
      "\n",
      "Message sent successfuly to 919131777547\n",
      "send_message() finished running \n",
      "Alert Text: {Alert text : \n",
      "Message: unexpected alert open: {Alert text : }\n",
      "  (Session info: chrome=99.0.4844.84)\n",
      "\n",
      "Alert Text: {Alert text : \n",
      "Message: unexpected alert open: {Alert text : }\n",
      "  (Session info: chrome=99.0.4844.84)\n",
      "\n",
      "Message sent successfuly to 918770367224\n",
      "send_message() finished running \n"
     ]
    }
   ],
   "source": [
    ">>> from alright import WhatsApp\n",
    ">>> messenger = WhatsApp()\n",
    ">>> numbers = ['919589001042', '919131777547', '918770367224']\n",
    ">>> for number in numbers:\n",
    "        messenger.find_user(number)\n",
    "        messenger.send_message(\"Automation Testing by SAMS \")"
   ]
  },
  {
   "cell_type": "code",
   "execution_count": 3,
   "id": "19f5ac26",
   "metadata": {},
   "outputs": [
    {
     "data": {
      "text/plain": [
       "''"
      ]
     },
     "execution_count": 3,
     "metadata": {},
     "output_type": "execute_result"
    }
   ],
   "source": [
    "\n",
    "\n",
    "\n",
    "import re \n",
    "x = \"['vaibhav']\"\n",
    "re.sub(\"[\\(\\[].*?[\\)\\]]\", \"\", x)"
   ]
  },
  {
   "cell_type": "code",
   "execution_count": 1,
   "id": "69caf191",
   "metadata": {},
   "outputs": [],
   "source": [
    "import sendy"
   ]
  },
  {
   "cell_type": "code",
   "execution_count": 2,
   "id": "565f92e4",
   "metadata": {},
   "outputs": [
    {
     "name": "stderr",
     "output_type": "stream",
     "text": [
      "\n",
      "\n",
      "====== WebDriver manager ======\n",
      "Current google-chrome version is 99.0.4844\n",
      "Get LATEST driver version for 99.0.4844\n",
      "Driver [C:\\Users\\vaibh\\.wdm\\drivers\\chromedriver\\win32\\99.0.4844.51\\chromedriver.exe] found in cache\n"
     ]
    },
    {
     "name": "stdout",
     "output_type": "stream",
     "text": [
      "Message sent successfuly to 919589001042\n",
      "send_message() finished running \n",
      "Alert Text: {Alert text : \n",
      "Message: unexpected alert open: {Alert text : }\n",
      "  (Session info: chrome=99.0.4844.84)\n",
      "\n",
      "Alert Text: {Alert text : \n",
      "Message: unexpected alert open: {Alert text : }\n",
      "  (Session info: chrome=99.0.4844.84)\n",
      "\n",
      "Message sent successfuly to 918770925303\n",
      "send_message() finished running \n",
      "send_file() finished running \n"
     ]
    }
   ],
   "source": [
    "sendy.send_m(\"Vaibhav Saxena\",919589001042)"
   ]
  },
  {
   "cell_type": "code",
   "execution_count": 17,
   "id": "a12fa7be",
   "metadata": {},
   "outputs": [
    {
     "name": "stdout",
     "output_type": "stream",
     "text": [
      "2022-04-01aaaa\n"
     ]
    }
   ],
   "source": [
    "from datetime import date\n",
    "today = str(date.today())\n",
    "print(today+\"aaaa\")\n",
    "naam=\"vaibhav\""
   ]
  },
  {
   "cell_type": "code",
   "execution_count": 22,
   "id": "be15d944",
   "metadata": {},
   "outputs": [
    {
     "name": "stdout",
     "output_type": "stream",
     "text": [
      "Greetings from SAMaMS vaibhav Your Attendance for the Date: 2022-04-01 has been marked.\n",
      " Thankyou for using our System\n"
     ]
    }
   ],
   "source": [
    "print(\"Greetings from SAMaMS \"+ naam +\" Your Attendance for the Date: \"+  str(date.today()) + \" has been marked.\\n Thankyou for using our System\")"
   ]
  },
  {
   "cell_type": "code",
   "execution_count": null,
   "id": "f7d4ec66",
   "metadata": {},
   "outputs": [],
   "source": []
  }
 ],
 "metadata": {
  "kernelspec": {
   "display_name": "Python 3",
   "language": "python",
   "name": "python3"
  },
  "language_info": {
   "codemirror_mode": {
    "name": "ipython",
    "version": 3
   },
   "file_extension": ".py",
   "mimetype": "text/x-python",
   "name": "python",
   "nbconvert_exporter": "python",
   "pygments_lexer": "ipython3",
   "version": "3.6.13"
  }
 },
 "nbformat": 4,
 "nbformat_minor": 5
}
