{
 "cells": [
  {
   "cell_type": "code",
   "execution_count": 215,
   "id": "cf224f5a",
   "metadata": {},
   "outputs": [
    {
     "name": "stdout",
     "output_type": "stream",
     "text": [
      "              Name Total_Attendance\n",
      "1  Shubham Samanta             1/34\n",
      "2            rupal             3/34\n",
      "3    Swastik Singh             7/34\n",
      "4          Vaibhav            24/34\n"
     ]
    }
   ],
   "source": [
    "\n",
    "# importing libraries\n",
    "import pandas as pd\n",
    "import glob\n",
    "import os\n",
    "from datetime import date\n",
    "from datetime import date\n",
    "todays_date = date.today()\n",
    "mon=\"0\"+str(todays_date.month)\n",
    "# merging the files\n",
    "def mntlyrpt():\n",
    "    \n",
    "    joined_files = os.path.join(r\"C:\\Users\\vaibh\\Downloads\\Attendance-System--main\\Attendance-System--main\\Project attendance\\Attendance\", \"Attendance*-\"+mon+\"-*\"+\".csv\")\n",
    "\n",
    "    # A list of all joined files is returned\n",
    "    joined_list = glob.glob(joined_files)\n",
    "\n",
    "    # Finally, the files are joined\n",
    "    df = pd.concat(map(pd.read_csv, joined_list), ignore_index=True)\n",
    "    \n",
    "    t=df['Name'].value_counts(ascending=True)\n",
    "    t.to_csv(r\"C:\\Users\\vaibh\\Downloads\\Attendance-System--main\\Attendance-System--main\\Project attendance\\Attendance\\count\"+mon+\".csv\" ,index = True)\n",
    "    p = pd.read_csv(\"count\"+mon+\".csv\", names=['Name','Total_Attendance'],header=None)\n",
    "    p=p.iloc[1:]\n",
    "    p.loc[0:,['Total_Attendance']] = p.loc[0:,['Total_Attendance']] +\"/\" +str(len(df)-1)\n",
    "    print(p)\n",
    "    p.to_csv(r\"C:\\Users\\vaibh\\Downloads\\Attendance-System--main\\Attendance-System--main\\Project attendance\\Attendance\\MonthlyReport\"+mon+\".csv\" ,index = True)\n",
    "mntlyrpt()    "
   ]
  },
  {
   "cell_type": "code",
   "execution_count": 213,
   "id": "0b37cdc8",
   "metadata": {},
   "outputs": [
    {
     "name": "stdout",
     "output_type": "stream",
     "text": [
      "05\n"
     ]
    }
   ],
   "source": [
    "from datetime import date\n",
    "todays_date = date.today()\n",
    "mon=\"0\"+str(todays_date.month)"
   ]
  },
  {
   "cell_type": "code",
   "execution_count": 195,
   "id": "b5630367",
   "metadata": {},
   "outputs": [],
   "source": [
    "p=p.iloc[1:]"
   ]
  },
  {
   "cell_type": "code",
   "execution_count": 201,
   "id": "30612218",
   "metadata": {},
   "outputs": [
    {
     "name": "stdout",
     "output_type": "stream",
     "text": [
      "Attendance*-05-*.csv\n"
     ]
    }
   ],
   "source": [
    "mon=\"05\"\n",
    "print(\"Attendance*-\"+mon+\"-*\"+\".csv\")"
   ]
  },
  {
   "cell_type": "code",
   "execution_count": 165,
   "id": "e97ee3ad",
   "metadata": {},
   "outputs": [
    {
     "name": "stdout",
     "output_type": "stream",
     "text": [
      "Pandas(Index=1, Name='Shubham Samanta', Total_Attendance='1')\n",
      "Pandas(Index=2, Name='rupal', Total_Attendance='3/34')\n",
      "Pandas(Index=3, Name='Swastik Singh', Total_Attendance='7/34/34')\n",
      "Pandas(Index=4, Name='Vaibhav', Total_Attendance='24/34/34/34')\n"
     ]
    }
   ],
   "source": [
    "for row in p.itertuples():\n",
    "    print(row)\n",
    "    #print(p['Total_Attendance'])\n",
    "    #temp= p['Total_Attendance'].astype(int)\n",
    "\n",
    "    p['Attendance_Percentage']=str(temp / int(len(df)-1))+\"%\"\n",
    "    p['Total_Attendance']= p['Total_Attendance'] + \"/\"+ str(len(df)-1)\n",
    "    "
   ]
  },
  {
   "cell_type": "code",
   "execution_count": 166,
   "id": "f938b746",
   "metadata": {},
   "outputs": [],
   "source": [
    "t=df['Name'].value_counts(ascending=True)\n"
   ]
  },
  {
   "cell_type": "code",
   "execution_count": 167,
   "id": "fcffd3ed",
   "metadata": {},
   "outputs": [],
   "source": [
    "p['Total_Attendance']=str(p['Total_Attendance'])+\"/\"+str(len(df)-1)"
   ]
  },
  {
   "cell_type": "code",
   "execution_count": 199,
   "id": "b34cd142",
   "metadata": {},
   "outputs": [],
   "source": [
    "t.loc[0:,['Total_Attendance']] = t.loc[0:,['Total_Attendance']] +\"/\" +str(len(df)-1)\n"
   ]
  },
  {
   "cell_type": "code",
   "execution_count": 198,
   "id": "189722ce",
   "metadata": {},
   "outputs": [
    {
     "ename": "TypeError",
     "evalue": "int() argument must be a string, a bytes-like object or a number, not 'DataFrame'",
     "output_type": "error",
     "traceback": [
      "\u001b[1;31m---------------------------------------------------------------------------\u001b[0m",
      "\u001b[1;31mTypeError\u001b[0m                                 Traceback (most recent call last)",
      "\u001b[1;32m<ipython-input-198-463bd0a7992d>\u001b[0m in \u001b[0;36m<module>\u001b[1;34m\u001b[0m\n\u001b[1;32m----> 1\u001b[1;33m \u001b[0mt\u001b[0m\u001b[1;33m.\u001b[0m\u001b[0mloc\u001b[0m\u001b[1;33m[\u001b[0m\u001b[1;36m0\u001b[0m\u001b[1;33m:\u001b[0m\u001b[1;33m,\u001b[0m\u001b[1;33m[\u001b[0m\u001b[1;34m'Attendance_Percentange'\u001b[0m\u001b[1;33m]\u001b[0m\u001b[1;33m]\u001b[0m \u001b[1;33m=\u001b[0m \u001b[0mint\u001b[0m\u001b[1;33m(\u001b[0m\u001b[0mt\u001b[0m\u001b[1;33m.\u001b[0m\u001b[0mloc\u001b[0m\u001b[1;33m[\u001b[0m\u001b[1;36m0\u001b[0m\u001b[1;33m:\u001b[0m\u001b[1;33m,\u001b[0m\u001b[1;33m[\u001b[0m\u001b[1;34m'Total_Attendance'\u001b[0m\u001b[1;33m]\u001b[0m\u001b[1;33m]\u001b[0m\u001b[1;33m)\u001b[0m\u001b[1;33m/\u001b[0m\u001b[1;33m(\u001b[0m\u001b[0mlen\u001b[0m\u001b[1;33m(\u001b[0m\u001b[0mdf\u001b[0m\u001b[1;33m)\u001b[0m\u001b[1;33m-\u001b[0m\u001b[1;36m1\u001b[0m\u001b[1;33m)\u001b[0m\u001b[1;33m\u001b[0m\u001b[1;33m\u001b[0m\u001b[0m\n\u001b[0m",
      "\u001b[1;31mTypeError\u001b[0m: int() argument must be a string, a bytes-like object or a number, not 'DataFrame'"
     ]
    }
   ],
   "source": [
    "t.loc[0:,['Attendance_Percentange']] = int(t.loc[0:,['Total_Attendance']])/(len(df)-1)\n"
   ]
  },
  {
   "cell_type": "code",
   "execution_count": 200,
   "id": "b6251918",
   "metadata": {},
   "outputs": [
    {
     "data": {
      "text/html": [
       "<div>\n",
       "<style scoped>\n",
       "    .dataframe tbody tr th:only-of-type {\n",
       "        vertical-align: middle;\n",
       "    }\n",
       "\n",
       "    .dataframe tbody tr th {\n",
       "        vertical-align: top;\n",
       "    }\n",
       "\n",
       "    .dataframe thead th {\n",
       "        text-align: right;\n",
       "    }\n",
       "</style>\n",
       "<table border=\"1\" class=\"dataframe\">\n",
       "  <thead>\n",
       "    <tr style=\"text-align: right;\">\n",
       "      <th></th>\n",
       "      <th>Name</th>\n",
       "      <th>Total_Attendance</th>\n",
       "    </tr>\n",
       "  </thead>\n",
       "  <tbody>\n",
       "    <tr>\n",
       "      <th>1</th>\n",
       "      <td>Shubham Samanta</td>\n",
       "      <td>1/34</td>\n",
       "    </tr>\n",
       "    <tr>\n",
       "      <th>2</th>\n",
       "      <td>rupal</td>\n",
       "      <td>3/34</td>\n",
       "    </tr>\n",
       "    <tr>\n",
       "      <th>3</th>\n",
       "      <td>Swastik Singh</td>\n",
       "      <td>7/34</td>\n",
       "    </tr>\n",
       "    <tr>\n",
       "      <th>4</th>\n",
       "      <td>Vaibhav</td>\n",
       "      <td>24/34</td>\n",
       "    </tr>\n",
       "  </tbody>\n",
       "</table>\n",
       "</div>"
      ],
      "text/plain": [
       "              Name Total_Attendance\n",
       "1  Shubham Samanta             1/34\n",
       "2            rupal             3/34\n",
       "3    Swastik Singh             7/34\n",
       "4          Vaibhav            24/34"
      ]
     },
     "execution_count": 200,
     "metadata": {},
     "output_type": "execute_result"
    }
   ],
   "source": [
    "t"
   ]
  },
  {
   "cell_type": "code",
   "execution_count": 33,
   "id": "45aae1d2",
   "metadata": {},
   "outputs": [
    {
     "name": "stdout",
     "output_type": "stream",
     "text": [
      "Name : Vaibhav\n",
      "Counts : 24\n",
      "Name : Swastik Singh\n",
      "Counts : 7\n",
      "Name : rupal\n",
      "Counts : 3\n",
      "Name : Shubham Samanta\n",
      "Counts : 1\n"
     ]
    }
   ],
   "source": [
    "for idx,name in enumerate(df['Name'].value_counts().index.tolist()):\n",
    "    print('Name :', name)\n",
    "    print('Counts :', df['Name'].value_counts()[idx])"
   ]
  },
  {
   "cell_type": "code",
   "execution_count": 182,
   "id": "b6f8b00c",
   "metadata": {},
   "outputs": [],
   "source": [
    "t=p"
   ]
  },
  {
   "cell_type": "code",
   "execution_count": 35,
   "id": "4dea9a26",
   "metadata": {},
   "outputs": [
    {
     "ename": "ModuleNotFoundError",
     "evalue": "No module named 'matplotlib'",
     "output_type": "error",
     "traceback": [
      "\u001b[1;31m---------------------------------------------------------------------------\u001b[0m",
      "\u001b[1;31mModuleNotFoundError\u001b[0m                       Traceback (most recent call last)",
      "\u001b[1;32m<ipython-input-35-a0d2faabd9e9>\u001b[0m in \u001b[0;36m<module>\u001b[1;34m\u001b[0m\n\u001b[1;32m----> 1\u001b[1;33m \u001b[1;32mimport\u001b[0m \u001b[0mmatplotlib\u001b[0m\u001b[1;33m.\u001b[0m\u001b[0mpyplot\u001b[0m \u001b[1;32mas\u001b[0m \u001b[0mplt\u001b[0m\u001b[1;33m\u001b[0m\u001b[1;33m\u001b[0m\u001b[0m\n\u001b[0m",
      "\u001b[1;31mModuleNotFoundError\u001b[0m: No module named 'matplotlib'"
     ]
    }
   ],
   "source": [
    "df.to_csv(\"output.csv\", header=['values'])"
   ]
  },
  {
   "cell_type": "code",
   "execution_count": 42,
   "id": "21b39993",
   "metadata": {},
   "outputs": [],
   "source": [
    "df = pd.DataFrame(df[\"Name\"].value_counts())\n",
    "df.index.name = \"Name\"\n",
    "df.columns = ['count']"
   ]
  },
  {
   "cell_type": "code",
   "execution_count": 47,
   "id": "d55d4b1a",
   "metadata": {},
   "outputs": [],
   "source": [
    "df.to_csv(r\"C:\\Users\\vaibh\\Downloads\\Attendance-System--main\\Attendance-System--main\\Project attendance\\Attendance\\Merged07.csv\", index = True)\n"
   ]
  },
  {
   "cell_type": "code",
   "execution_count": 63,
   "id": "4d2520d3",
   "metadata": {},
   "outputs": [
    {
     "ename": "AttributeError",
     "evalue": "'DataFrame' object has no attribute 'to_Frame'",
     "output_type": "error",
     "traceback": [
      "\u001b[1;31m---------------------------------------------------------------------------\u001b[0m",
      "\u001b[1;31mAttributeError\u001b[0m                            Traceback (most recent call last)",
      "\u001b[1;32m<ipython-input-63-49ea3b762251>\u001b[0m in \u001b[0;36m<module>\u001b[1;34m\u001b[0m\n\u001b[1;32m----> 1\u001b[1;33m \u001b[0mt\u001b[0m\u001b[1;33m.\u001b[0m\u001b[0mto_Frame\u001b[0m\u001b[1;33m(\u001b[0m\u001b[1;33m)\u001b[0m\u001b[1;33m\u001b[0m\u001b[1;33m\u001b[0m\u001b[0m\n\u001b[0m",
      "\u001b[1;32m~\\.conda\\envs\\samsenv\\lib\\site-packages\\pandas\\core\\generic.py\u001b[0m in \u001b[0;36m__getattr__\u001b[1;34m(self, name)\u001b[0m\n\u001b[0;32m   5139\u001b[0m             \u001b[1;32mif\u001b[0m \u001b[0mself\u001b[0m\u001b[1;33m.\u001b[0m\u001b[0m_info_axis\u001b[0m\u001b[1;33m.\u001b[0m\u001b[0m_can_hold_identifiers_and_holds_name\u001b[0m\u001b[1;33m(\u001b[0m\u001b[0mname\u001b[0m\u001b[1;33m)\u001b[0m\u001b[1;33m:\u001b[0m\u001b[1;33m\u001b[0m\u001b[1;33m\u001b[0m\u001b[0m\n\u001b[0;32m   5140\u001b[0m                 \u001b[1;32mreturn\u001b[0m \u001b[0mself\u001b[0m\u001b[1;33m[\u001b[0m\u001b[0mname\u001b[0m\u001b[1;33m]\u001b[0m\u001b[1;33m\u001b[0m\u001b[1;33m\u001b[0m\u001b[0m\n\u001b[1;32m-> 5141\u001b[1;33m             \u001b[1;32mreturn\u001b[0m \u001b[0mobject\u001b[0m\u001b[1;33m.\u001b[0m\u001b[0m__getattribute__\u001b[0m\u001b[1;33m(\u001b[0m\u001b[0mself\u001b[0m\u001b[1;33m,\u001b[0m \u001b[0mname\u001b[0m\u001b[1;33m)\u001b[0m\u001b[1;33m\u001b[0m\u001b[1;33m\u001b[0m\u001b[0m\n\u001b[0m\u001b[0;32m   5142\u001b[0m \u001b[1;33m\u001b[0m\u001b[0m\n\u001b[0;32m   5143\u001b[0m     \u001b[1;32mdef\u001b[0m \u001b[0m__setattr__\u001b[0m\u001b[1;33m(\u001b[0m\u001b[0mself\u001b[0m\u001b[1;33m,\u001b[0m \u001b[0mname\u001b[0m\u001b[1;33m:\u001b[0m \u001b[0mstr\u001b[0m\u001b[1;33m,\u001b[0m \u001b[0mvalue\u001b[0m\u001b[1;33m)\u001b[0m \u001b[1;33m->\u001b[0m \u001b[1;32mNone\u001b[0m\u001b[1;33m:\u001b[0m\u001b[1;33m\u001b[0m\u001b[1;33m\u001b[0m\u001b[0m\n",
      "\u001b[1;31mAttributeError\u001b[0m: 'DataFrame' object has no attribute 'to_Frame'"
     ]
    }
   ],
   "source": [
    "t.to_Frame()"
   ]
  },
  {
   "cell_type": "code",
   "execution_count": null,
   "id": "572a42f9",
   "metadata": {},
   "outputs": [],
   "source": []
  }
 ],
 "metadata": {
  "kernelspec": {
   "display_name": "Python 3",
   "language": "python",
   "name": "python3"
  },
  "language_info": {
   "codemirror_mode": {
    "name": "ipython",
    "version": 3
   },
   "file_extension": ".py",
   "mimetype": "text/x-python",
   "name": "python",
   "nbconvert_exporter": "python",
   "pygments_lexer": "ipython3",
   "version": "3.6.13"
  }
 },
 "nbformat": 4,
 "nbformat_minor": 5
}
